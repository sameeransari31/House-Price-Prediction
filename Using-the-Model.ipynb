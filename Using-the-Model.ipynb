{
 "cells": [
  {
   "cell_type": "code",
   "execution_count": 27,
   "id": "83dbe2d9-eb50-468e-a9a9-7d28a86a7087",
   "metadata": {},
   "outputs": [],
   "source": [
    "import joblib"
   ]
  },
  {
   "cell_type": "code",
   "execution_count": 34,
   "id": "9c78e4cb-1fca-4a7a-a220-d3f1004c07db",
   "metadata": {},
   "outputs": [],
   "source": [
    "model = joblib.load('house_price_prediction.pkl')"
   ]
  },
  {
   "cell_type": "code",
   "execution_count": 35,
   "id": "2a502488-61d3-4e2d-8b0a-f369fa137498",
   "metadata": {},
   "outputs": [],
   "source": [
    "new_data = {\n",
    "    'longitude': [-108.0],\n",
    "    'latitude': [34.0],\n",
    "    'housing_median_age': [20],\n",
    "    'total_rooms': [4000],\n",
    "    'total_bedrooms': [800],\n",
    "    'population': [2900],\n",
    "    'households': [500],\n",
    "    'median_income': [5.5],\n",
    "    'ocean_proximity': ['NEAR OCEAN']\n",
    "}"
   ]
  },
  {
   "cell_type": "code",
   "execution_count": 36,
   "id": "2698cc3a-a9e0-468a-b116-bc7a88198a58",
   "metadata": {},
   "outputs": [],
   "source": [
    "new_data_df = pd.DataFrame(new_data)"
   ]
  },
  {
   "cell_type": "code",
   "execution_count": 37,
   "id": "5fdae854-f825-43fd-a7cf-05eb0a30fefd",
   "metadata": {},
   "outputs": [],
   "source": [
    "predicted_value = model.predict(new_data_df)\n",
    "original_value = np.exp(predicted_value)\n",
    "formatted_value = f\"${original_value[0]:,.2f}\""
   ]
  },
  {
   "cell_type": "code",
   "execution_count": 38,
   "id": "d2f2959f-06cd-43cc-a80b-6ac2d852a032",
   "metadata": {},
   "outputs": [
    {
     "name": "stdout",
     "output_type": "stream",
     "text": [
      "Predicted Median House Value: $233,546.60\n"
     ]
    }
   ],
   "source": [
    "print(f\"Predicted Median House Value: {formatted_value}\")"
   ]
  },
  {
   "cell_type": "code",
   "execution_count": null,
   "id": "d3da4b4f-9333-4609-a112-f60f66333f08",
   "metadata": {},
   "outputs": [],
   "source": []
  }
 ],
 "metadata": {
  "kernelspec": {
   "display_name": "Python 3 (ipykernel)",
   "language": "python",
   "name": "python3"
  },
  "language_info": {
   "codemirror_mode": {
    "name": "ipython",
    "version": 3
   },
   "file_extension": ".py",
   "mimetype": "text/x-python",
   "name": "python",
   "nbconvert_exporter": "python",
   "pygments_lexer": "ipython3",
   "version": "3.11.0"
  }
 },
 "nbformat": 4,
 "nbformat_minor": 5
}
